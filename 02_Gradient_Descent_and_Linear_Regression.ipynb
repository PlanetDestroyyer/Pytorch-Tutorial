{
  "nbformat": 4,
  "nbformat_minor": 0,
  "metadata": {
    "colab": {
      "provenance": [],
      "gpuType": "T4",
      "authorship_tag": "ABX9TyNkXVxTYZcFpFZ5/BGyFGwr",
      "include_colab_link": true
    },
    "kernelspec": {
      "name": "python3",
      "display_name": "Python 3"
    },
    "language_info": {
      "name": "python"
    },
    "accelerator": "GPU"
  },
  "cells": [
    {
      "cell_type": "markdown",
      "metadata": {
        "id": "view-in-github",
        "colab_type": "text"
      },
      "source": [
        "<a href=\"https://colab.research.google.com/github/PlanetDestroyyer/Pytorch-Tutorial/blob/main/02_Gradient_Descent_and_Linear_Regression.ipynb\" target=\"_parent\"><img src=\"https://colab.research.google.com/assets/colab-badge.svg\" alt=\"Open In Colab\"/></a>"
      ]
    },
    {
      "cell_type": "code",
      "execution_count": 3,
      "metadata": {
        "id": "o-pWQkCKilwM"
      },
      "outputs": [],
      "source": [
        "import torch\n",
        "import numpy as np"
      ]
    },
    {
      "cell_type": "code",
      "source": [
        "# Input (temp, rainfall, humidity)\n",
        "inputs = np.array([[73, 67, 43],\n",
        "                   [91, 88, 64],\n",
        "                   [87, 134, 58],\n",
        "                   [102, 43, 37],\n",
        "                   [69, 96, 70]], dtype='float32')"
      ],
      "metadata": {
        "id": "wUTNV5dskbBB"
      },
      "execution_count": 4,
      "outputs": []
    },
    {
      "cell_type": "code",
      "source": [
        "# Targets (apples, oranges)\n",
        "targets = np.array([[56, 70],\n",
        "                    [81, 101],\n",
        "                    [119, 133],\n",
        "                    [22, 37],\n",
        "                    [103, 119]], dtype='float32')"
      ],
      "metadata": {
        "id": "OdP1_2basg_4"
      },
      "execution_count": 5,
      "outputs": []
    },
    {
      "cell_type": "code",
      "source": [
        "inputs = torch.from_numpy(inputs)\n",
        "targets = torch.from_numpy(targets)\n",
        "print(inputs)\n",
        "print(targets)"
      ],
      "metadata": {
        "colab": {
          "base_uri": "https://localhost:8080/"
        },
        "id": "FdFXq4KEsiYl",
        "outputId": "51a2a05f-a534-4e89-a2b4-f896111ffe43"
      },
      "execution_count": 6,
      "outputs": [
        {
          "output_type": "stream",
          "name": "stdout",
          "text": [
            "tensor([[ 73.,  67.,  43.],\n",
            "        [ 91.,  88.,  64.],\n",
            "        [ 87., 134.,  58.],\n",
            "        [102.,  43.,  37.],\n",
            "        [ 69.,  96.,  70.]])\n",
            "tensor([[ 56.,  70.],\n",
            "        [ 81., 101.],\n",
            "        [119., 133.],\n",
            "        [ 22.,  37.],\n",
            "        [103., 119.]])\n"
          ]
        }
      ]
    },
    {
      "cell_type": "code",
      "source": [
        "w = torch.randn(2,3,requires_grad=True)\n",
        "b = torch.randn(2,requires_grad=True)\n",
        "print(w)\n",
        "print(b)"
      ],
      "metadata": {
        "colab": {
          "base_uri": "https://localhost:8080/"
        },
        "id": "Wtp-7ixVs76r",
        "outputId": "ede9195a-56d6-4861-ca8c-81cdad22992d"
      },
      "execution_count": 83,
      "outputs": [
        {
          "output_type": "stream",
          "name": "stdout",
          "text": [
            "tensor([[-0.0763,  1.3529, -0.5769],\n",
            "        [ 1.8504,  0.5917, -0.7727]], requires_grad=True)\n",
            "tensor([-0.6365, -1.1604], requires_grad=True)\n"
          ]
        }
      ]
    },
    {
      "cell_type": "code",
      "source": [
        "inputs @ w.t() + b"
      ],
      "metadata": {
        "colab": {
          "base_uri": "https://localhost:8080/"
        },
        "id": "yIlrcgMTuNId",
        "outputId": "80a9899d-b389-4477-c215-caf320b5936e"
      },
      "execution_count": 84,
      "outputs": [
        {
          "output_type": "execute_result",
          "data": {
            "text/plain": [
              "tensor([[ 59.6297, 140.3347],\n",
              "        [ 74.5518, 169.8407],\n",
              "        [140.5503, 194.2936],\n",
              "        [ 28.4101, 184.4301],\n",
              "        [ 83.5916, 129.2305]], grad_fn=<AddBackward0>)"
            ]
          },
          "metadata": {},
          "execution_count": 84
        }
      ]
    },
    {
      "cell_type": "code",
      "source": [
        "def model(x):\n",
        "  return x @ w.t() + b"
      ],
      "metadata": {
        "id": "yFSGhJm0tPxt"
      },
      "execution_count": 85,
      "outputs": []
    },
    {
      "cell_type": "code",
      "source": [
        "pred = model(inputs)\n",
        "print(pred)"
      ],
      "metadata": {
        "colab": {
          "base_uri": "https://localhost:8080/"
        },
        "id": "29CZl31mt12q",
        "outputId": "f8cdeedc-e2b9-4ded-8524-095b355a8641"
      },
      "execution_count": 86,
      "outputs": [
        {
          "output_type": "stream",
          "name": "stdout",
          "text": [
            "tensor([[ 59.6297, 140.3347],\n",
            "        [ 74.5518, 169.8407],\n",
            "        [140.5503, 194.2936],\n",
            "        [ 28.4101, 184.4301],\n",
            "        [ 83.5916, 129.2305]], grad_fn=<AddBackward0>)\n"
          ]
        }
      ]
    },
    {
      "cell_type": "code",
      "source": [
        "print(targets)"
      ],
      "metadata": {
        "colab": {
          "base_uri": "https://localhost:8080/"
        },
        "id": "dbjs-RFYudII",
        "outputId": "b9be617b-345e-4f0b-908a-d4c6f5df6c59"
      },
      "execution_count": 87,
      "outputs": [
        {
          "output_type": "stream",
          "name": "stdout",
          "text": [
            "tensor([[ 56.,  70.],\n",
            "        [ 81., 101.],\n",
            "        [119., 133.],\n",
            "        [ 22.,  37.],\n",
            "        [103., 119.]])\n"
          ]
        }
      ]
    },
    {
      "cell_type": "code",
      "source": [
        "diff = pred - targets"
      ],
      "metadata": {
        "id": "CCgE1a8kug6z"
      },
      "execution_count": 88,
      "outputs": []
    },
    {
      "cell_type": "code",
      "source": [
        "diff"
      ],
      "metadata": {
        "colab": {
          "base_uri": "https://localhost:8080/"
        },
        "id": "BdDJNKjGvG7p",
        "outputId": "228e4234-585a-4f8a-ef70-1b616cd85f34"
      },
      "execution_count": 89,
      "outputs": [
        {
          "output_type": "execute_result",
          "data": {
            "text/plain": [
              "tensor([[  3.6297,  70.3347],\n",
              "        [ -6.4482,  68.8407],\n",
              "        [ 21.5503,  61.2936],\n",
              "        [  6.4101, 147.4301],\n",
              "        [-19.4084,  10.2305]], grad_fn=<SubBackward0>)"
            ]
          },
          "metadata": {},
          "execution_count": 89
        }
      ]
    },
    {
      "cell_type": "code",
      "source": [
        "diff * diff"
      ],
      "metadata": {
        "colab": {
          "base_uri": "https://localhost:8080/"
        },
        "id": "GtidiTDou1XA",
        "outputId": "2b86dbf2-4ca5-46c4-fa66-900a6905e292"
      },
      "execution_count": 90,
      "outputs": [
        {
          "output_type": "execute_result",
          "data": {
            "text/plain": [
              "tensor([[1.3175e+01, 4.9470e+03],\n",
              "        [4.1580e+01, 4.7390e+03],\n",
              "        [4.6441e+02, 3.7569e+03],\n",
              "        [4.1089e+01, 2.1736e+04],\n",
              "        [3.7669e+02, 1.0466e+02]], grad_fn=<MulBackward0>)"
            ]
          },
          "metadata": {},
          "execution_count": 90
        }
      ]
    },
    {
      "cell_type": "code",
      "source": [
        "torch.sum(diff * diff) / diff.numel()"
      ],
      "metadata": {
        "colab": {
          "base_uri": "https://localhost:8080/"
        },
        "id": "6H0MRjTSvcIB",
        "outputId": "ed1ffaef-c293-4895-afaa-fed4bfa25779"
      },
      "execution_count": 91,
      "outputs": [
        {
          "output_type": "execute_result",
          "data": {
            "text/plain": [
              "tensor(3622.0149, grad_fn=<DivBackward0>)"
            ]
          },
          "metadata": {},
          "execution_count": 91
        }
      ]
    },
    {
      "cell_type": "code",
      "source": [
        "def mse(pred,targets):\n",
        "  diff = pred - targets\n",
        "  return torch.sum(diff * diff) / diff.numel()"
      ],
      "metadata": {
        "id": "3NaEKAS3vSmp"
      },
      "execution_count": 92,
      "outputs": []
    },
    {
      "cell_type": "code",
      "source": [
        "loss = mse(pred,targets)\n",
        "print(loss)"
      ],
      "metadata": {
        "colab": {
          "base_uri": "https://localhost:8080/"
        },
        "id": "q2ajOVI_vnsA",
        "outputId": "54cb1fca-5fb1-4992-8779-a06f123e61b9"
      },
      "execution_count": 93,
      "outputs": [
        {
          "output_type": "stream",
          "name": "stdout",
          "text": [
            "tensor(3622.0149, grad_fn=<DivBackward0>)\n"
          ]
        }
      ]
    },
    {
      "cell_type": "code",
      "source": [
        "loss.backward()"
      ],
      "metadata": {
        "id": "uzj075Qtv09h"
      },
      "execution_count": 94,
      "outputs": []
    },
    {
      "cell_type": "code",
      "source": [
        "print(w)\n",
        "print(w.grad)"
      ],
      "metadata": {
        "colab": {
          "base_uri": "https://localhost:8080/"
        },
        "id": "XWoO1bGowo9V",
        "outputId": "e59e5d8d-e4cc-45b9-a799-d738aa06b2c8"
      },
      "execution_count": 95,
      "outputs": [
        {
          "output_type": "stream",
          "name": "stdout",
          "text": [
            "tensor([[-0.0763,  1.3529, -0.5769],\n",
            "        [ 1.8504,  0.5917, -0.7727]], requires_grad=True)\n",
            "tensor([[ 173.5400,  195.1815,  -25.6220],\n",
            "        [6495.0513, 5261.0757, 3431.2554]])\n"
          ]
        }
      ]
    },
    {
      "cell_type": "code",
      "source": [
        "print(b)\n",
        "print(b.grad)"
      ],
      "metadata": {
        "colab": {
          "base_uri": "https://localhost:8080/"
        },
        "id": "vPhJCWjywspe",
        "outputId": "db641252-59f0-44a7-f83c-f1f8593388b9"
      },
      "execution_count": 96,
      "outputs": [
        {
          "output_type": "stream",
          "name": "stdout",
          "text": [
            "tensor([-0.6365, -1.1604], requires_grad=True)\n",
            "tensor([ 1.1467, 71.6259])\n"
          ]
        }
      ]
    },
    {
      "cell_type": "code",
      "source": [
        "w - w.grad * 1e-5"
      ],
      "metadata": {
        "colab": {
          "base_uri": "https://localhost:8080/"
        },
        "id": "DQR9XjoQyqYt",
        "outputId": "f8a9a680-1b2f-460e-fe8c-a9b72213ff02"
      },
      "execution_count": 98,
      "outputs": [
        {
          "output_type": "execute_result",
          "data": {
            "text/plain": [
              "tensor([[-0.0780,  1.3509, -0.5767],\n",
              "        [ 1.7854,  0.5391, -0.8070]], grad_fn=<SubBackward0>)"
            ]
          },
          "metadata": {},
          "execution_count": 98
        }
      ]
    },
    {
      "cell_type": "code",
      "source": [
        "b - b.grad * 1e-5"
      ],
      "metadata": {
        "colab": {
          "base_uri": "https://localhost:8080/"
        },
        "id": "zqFUPOQvyy5b",
        "outputId": "7543ec65-9d53-40c3-ab6f-67c4d214436a"
      },
      "execution_count": 99,
      "outputs": [
        {
          "output_type": "execute_result",
          "data": {
            "text/plain": [
              "tensor([-0.6365, -1.1611], grad_fn=<SubBackward0>)"
            ]
          },
          "metadata": {},
          "execution_count": 99
        }
      ]
    },
    {
      "cell_type": "code",
      "source": [
        "with torch.no_grad():\n",
        "  w -= w.grad * 1e-5\n",
        "  b -= b.grad * 1e-5"
      ],
      "metadata": {
        "id": "zaBfiBYWxC3h"
      },
      "execution_count": 101,
      "outputs": []
    },
    {
      "cell_type": "code",
      "source": [
        "pred = model(inputs)"
      ],
      "metadata": {
        "id": "aNUtMndYzG4U"
      },
      "execution_count": 105,
      "outputs": []
    },
    {
      "cell_type": "code",
      "source": [
        "loss = mse(pred,targets)\n",
        "print(loss)"
      ],
      "metadata": {
        "colab": {
          "base_uri": "https://localhost:8080/"
        },
        "id": "eiV5km0Zy57z",
        "outputId": "dfd06e76-64f1-4b69-9acc-4e59ac7917f2"
      },
      "execution_count": 106,
      "outputs": [
        {
          "output_type": "stream",
          "name": "stdout",
          "text": [
            "tensor(2876.8008, grad_fn=<DivBackward0>)\n"
          ]
        }
      ]
    },
    {
      "cell_type": "code",
      "source": [
        "w.grad.zero_()\n",
        "b.grad.zero_()\n",
        "print(w.grad)\n",
        "print(b.grad)"
      ],
      "metadata": {
        "colab": {
          "base_uri": "https://localhost:8080/"
        },
        "id": "-DezWOJ6y-TX",
        "outputId": "33b61c0d-a110-4ea8-c62e-84518091afb9"
      },
      "execution_count": 107,
      "outputs": [
        {
          "output_type": "stream",
          "name": "stdout",
          "text": [
            "tensor([[0., 0., 0.],\n",
            "        [0., 0., 0.]])\n",
            "tensor([0., 0.])\n"
          ]
        }
      ]
    },
    {
      "cell_type": "code",
      "source": [
        "print(w)\n",
        "print(b)"
      ],
      "metadata": {
        "colab": {
          "base_uri": "https://localhost:8080/"
        },
        "id": "rr8Ov0ClzOoF",
        "outputId": "d5425bc1-9907-4fef-d1c7-f61c72eec70b"
      },
      "execution_count": 108,
      "outputs": [
        {
          "output_type": "stream",
          "name": "stdout",
          "text": [
            "tensor([[-0.0780,  1.3509, -0.5767],\n",
            "        [ 1.7854,  0.5391, -0.8070]], requires_grad=True)\n",
            "tensor([-0.6365, -1.1611], requires_grad=True)\n"
          ]
        }
      ]
    },
    {
      "cell_type": "code",
      "source": [
        "for i in range(500):\n",
        "  preds = model(inputs)\n",
        "  loss = mse(preds,targets)\n",
        "  print(loss)\n",
        "  loss.backward()\n",
        "  with torch.no_grad():\n",
        "    w -= w.grad * 1e-5\n",
        "    b -= b.grad * 1e-5\n",
        "    w.grad.zero_()\n",
        "    b.grad.zero_()"
      ],
      "metadata": {
        "colab": {
          "base_uri": "https://localhost:8080/"
        },
        "id": "NhMlpqQMzvOY",
        "outputId": "e8b193ef-ef7a-48b4-bba7-81f78d05c2bc"
      },
      "execution_count": 116,
      "outputs": [
        {
          "output_type": "stream",
          "name": "stdout",
          "text": [
            "tensor(132.8472, grad_fn=<DivBackward0>)\n",
            "tensor(132.5268, grad_fn=<DivBackward0>)\n",
            "tensor(132.2078, grad_fn=<DivBackward0>)\n",
            "tensor(131.8904, grad_fn=<DivBackward0>)\n",
            "tensor(131.5744, grad_fn=<DivBackward0>)\n",
            "tensor(131.2599, grad_fn=<DivBackward0>)\n",
            "tensor(130.9469, grad_fn=<DivBackward0>)\n",
            "tensor(130.6354, grad_fn=<DivBackward0>)\n",
            "tensor(130.3253, grad_fn=<DivBackward0>)\n",
            "tensor(130.0166, grad_fn=<DivBackward0>)\n",
            "tensor(129.7093, grad_fn=<DivBackward0>)\n",
            "tensor(129.4035, grad_fn=<DivBackward0>)\n",
            "tensor(129.0990, grad_fn=<DivBackward0>)\n",
            "tensor(128.7960, grad_fn=<DivBackward0>)\n",
            "tensor(128.4941, grad_fn=<DivBackward0>)\n",
            "tensor(128.1939, grad_fn=<DivBackward0>)\n",
            "tensor(127.8948, grad_fn=<DivBackward0>)\n",
            "tensor(127.5971, grad_fn=<DivBackward0>)\n",
            "tensor(127.3006, grad_fn=<DivBackward0>)\n",
            "tensor(127.0056, grad_fn=<DivBackward0>)\n",
            "tensor(126.7118, grad_fn=<DivBackward0>)\n",
            "tensor(126.4192, grad_fn=<DivBackward0>)\n",
            "tensor(126.1279, grad_fn=<DivBackward0>)\n",
            "tensor(125.8379, grad_fn=<DivBackward0>)\n",
            "tensor(125.5491, grad_fn=<DivBackward0>)\n",
            "tensor(125.2616, grad_fn=<DivBackward0>)\n",
            "tensor(124.9752, grad_fn=<DivBackward0>)\n",
            "tensor(124.6902, grad_fn=<DivBackward0>)\n",
            "tensor(124.4062, grad_fn=<DivBackward0>)\n",
            "tensor(124.1235, grad_fn=<DivBackward0>)\n",
            "tensor(123.8420, grad_fn=<DivBackward0>)\n",
            "tensor(123.5617, grad_fn=<DivBackward0>)\n",
            "tensor(123.2824, grad_fn=<DivBackward0>)\n",
            "tensor(123.0043, grad_fn=<DivBackward0>)\n",
            "tensor(122.7274, grad_fn=<DivBackward0>)\n",
            "tensor(122.4516, grad_fn=<DivBackward0>)\n",
            "tensor(122.1769, grad_fn=<DivBackward0>)\n",
            "tensor(121.9032, grad_fn=<DivBackward0>)\n",
            "tensor(121.6308, grad_fn=<DivBackward0>)\n",
            "tensor(121.3593, grad_fn=<DivBackward0>)\n",
            "tensor(121.0891, grad_fn=<DivBackward0>)\n",
            "tensor(120.8197, grad_fn=<DivBackward0>)\n",
            "tensor(120.5517, grad_fn=<DivBackward0>)\n",
            "tensor(120.2844, grad_fn=<DivBackward0>)\n",
            "tensor(120.0184, grad_fn=<DivBackward0>)\n",
            "tensor(119.7533, grad_fn=<DivBackward0>)\n",
            "tensor(119.4893, grad_fn=<DivBackward0>)\n",
            "tensor(119.2262, grad_fn=<DivBackward0>)\n",
            "tensor(118.9643, grad_fn=<DivBackward0>)\n",
            "tensor(118.7032, grad_fn=<DivBackward0>)\n",
            "tensor(118.4432, grad_fn=<DivBackward0>)\n",
            "tensor(118.1840, grad_fn=<DivBackward0>)\n",
            "tensor(117.9260, grad_fn=<DivBackward0>)\n",
            "tensor(117.6691, grad_fn=<DivBackward0>)\n",
            "tensor(117.4129, grad_fn=<DivBackward0>)\n",
            "tensor(117.1577, grad_fn=<DivBackward0>)\n",
            "tensor(116.9035, grad_fn=<DivBackward0>)\n",
            "tensor(116.6501, grad_fn=<DivBackward0>)\n",
            "tensor(116.3978, grad_fn=<DivBackward0>)\n",
            "tensor(116.1463, grad_fn=<DivBackward0>)\n",
            "tensor(115.8958, grad_fn=<DivBackward0>)\n",
            "tensor(115.6461, grad_fn=<DivBackward0>)\n",
            "tensor(115.3974, grad_fn=<DivBackward0>)\n",
            "tensor(115.1495, grad_fn=<DivBackward0>)\n",
            "tensor(114.9025, grad_fn=<DivBackward0>)\n",
            "tensor(114.6566, grad_fn=<DivBackward0>)\n",
            "tensor(114.4113, grad_fn=<DivBackward0>)\n",
            "tensor(114.1668, grad_fn=<DivBackward0>)\n",
            "tensor(113.9234, grad_fn=<DivBackward0>)\n",
            "tensor(113.6807, grad_fn=<DivBackward0>)\n",
            "tensor(113.4390, grad_fn=<DivBackward0>)\n",
            "tensor(113.1980, grad_fn=<DivBackward0>)\n",
            "tensor(112.9578, grad_fn=<DivBackward0>)\n",
            "tensor(112.7185, grad_fn=<DivBackward0>)\n",
            "tensor(112.4801, grad_fn=<DivBackward0>)\n",
            "tensor(112.2424, grad_fn=<DivBackward0>)\n",
            "tensor(112.0055, grad_fn=<DivBackward0>)\n",
            "tensor(111.7695, grad_fn=<DivBackward0>)\n",
            "tensor(111.5342, grad_fn=<DivBackward0>)\n",
            "tensor(111.2997, grad_fn=<DivBackward0>)\n",
            "tensor(111.0660, grad_fn=<DivBackward0>)\n",
            "tensor(110.8331, grad_fn=<DivBackward0>)\n",
            "tensor(110.6009, grad_fn=<DivBackward0>)\n",
            "tensor(110.3696, grad_fn=<DivBackward0>)\n",
            "tensor(110.1388, grad_fn=<DivBackward0>)\n",
            "tensor(109.9090, grad_fn=<DivBackward0>)\n",
            "tensor(109.6799, grad_fn=<DivBackward0>)\n",
            "tensor(109.4515, grad_fn=<DivBackward0>)\n",
            "tensor(109.2238, grad_fn=<DivBackward0>)\n",
            "tensor(108.9969, grad_fn=<DivBackward0>)\n",
            "tensor(108.7708, grad_fn=<DivBackward0>)\n",
            "tensor(108.5453, grad_fn=<DivBackward0>)\n",
            "tensor(108.3204, grad_fn=<DivBackward0>)\n",
            "tensor(108.0964, grad_fn=<DivBackward0>)\n",
            "tensor(107.8731, grad_fn=<DivBackward0>)\n",
            "tensor(107.6504, grad_fn=<DivBackward0>)\n",
            "tensor(107.4285, grad_fn=<DivBackward0>)\n",
            "tensor(107.2072, grad_fn=<DivBackward0>)\n",
            "tensor(106.9867, grad_fn=<DivBackward0>)\n",
            "tensor(106.7668, grad_fn=<DivBackward0>)\n"
          ]
        }
      ]
    },
    {
      "cell_type": "code",
      "source": [
        "print(loss)"
      ],
      "metadata": {
        "colab": {
          "base_uri": "https://localhost:8080/"
        },
        "id": "dIgX2fugz8b6",
        "outputId": "2385f0d6-9f12-4eba-8fac-eb77f1667859"
      },
      "execution_count": 117,
      "outputs": [
        {
          "output_type": "stream",
          "name": "stdout",
          "text": [
            "tensor(106.7668, grad_fn=<DivBackward0>)\n"
          ]
        }
      ]
    },
    {
      "cell_type": "code",
      "source": [
        "print(pred)\n",
        "print(targets)"
      ],
      "metadata": {
        "colab": {
          "base_uri": "https://localhost:8080/"
        },
        "id": "NDOB5o8c0A_1",
        "outputId": "a6f2343c-6120-45b6-eea3-c800b2831e06"
      },
      "execution_count": 118,
      "outputs": [
        {
          "output_type": "stream",
          "name": "stdout",
          "text": [
            "tensor([[ 59.3833, 130.5922],\n",
            "        [ 74.2385, 157.1038],\n",
            "        [140.1526, 179.6023],\n",
            "        [ 28.1586, 174.2726],\n",
            "        [ 83.3024, 117.2957]], grad_fn=<AddBackward0>)\n",
            "tensor([[ 56.,  70.],\n",
            "        [ 81., 101.],\n",
            "        [119., 133.],\n",
            "        [ 22.,  37.],\n",
            "        [103., 119.]])\n"
          ]
        }
      ]
    },
    {
      "cell_type": "markdown",
      "source": [
        "Build-In functions"
      ],
      "metadata": {
        "id": "tji5z0bv0rmc"
      }
    },
    {
      "cell_type": "code",
      "source": [
        "import torch.nn as nn"
      ],
      "metadata": {
        "id": "yMLSCh-B0qxD"
      },
      "execution_count": 119,
      "outputs": []
    },
    {
      "cell_type": "code",
      "source": [
        "# Input (temp, rainfall, humidity)\n",
        "inputs = np.array([[73, 67, 43],\n",
        "                   [91, 88, 64],\n",
        "                   [87, 134, 58],\n",
        "                   [102, 43, 37],\n",
        "                   [69, 96, 70]], dtype='float32')"
      ],
      "metadata": {
        "id": "R3_mn2iV02fq"
      },
      "execution_count": 120,
      "outputs": []
    },
    {
      "cell_type": "code",
      "source": [
        "# Targets (apples, oranges)\n",
        "targets = np.array([[56, 70],\n",
        "                    [81, 101],\n",
        "                    [119, 133],\n",
        "                    [22, 37],\n",
        "                    [103, 119]], dtype='float32')"
      ],
      "metadata": {
        "id": "6YfR5yp907K4"
      },
      "execution_count": 121,
      "outputs": []
    },
    {
      "cell_type": "code",
      "source": [
        "inputs = torch.from_numpy(inputs)\n",
        "targets = torch.from_numpy(targets)\n"
      ],
      "metadata": {
        "id": "DaaaxLwU073Q"
      },
      "execution_count": 122,
      "outputs": []
    },
    {
      "cell_type": "code",
      "source": [
        "print(inputs)\n",
        "print(targets)"
      ],
      "metadata": {
        "colab": {
          "base_uri": "https://localhost:8080/"
        },
        "id": "sfH9p2x-0_A0",
        "outputId": "b41e4666-65f7-4df9-9ab8-cef930285e0d"
      },
      "execution_count": 123,
      "outputs": [
        {
          "output_type": "stream",
          "name": "stdout",
          "text": [
            "tensor([[ 73.,  67.,  43.],\n",
            "        [ 91.,  88.,  64.],\n",
            "        [ 87., 134.,  58.],\n",
            "        [102.,  43.,  37.],\n",
            "        [ 69.,  96.,  70.]])\n",
            "tensor([[ 56.,  70.],\n",
            "        [ 81., 101.],\n",
            "        [119., 133.],\n",
            "        [ 22.,  37.],\n",
            "        [103., 119.]])\n"
          ]
        }
      ]
    },
    {
      "cell_type": "code",
      "source": [
        "from torch.utils.data import TensorDataset"
      ],
      "metadata": {
        "id": "2rbVBBww1C6w"
      },
      "execution_count": 125,
      "outputs": []
    },
    {
      "cell_type": "code",
      "source": [
        "train_ds = TensorDataset(inputs,targets)"
      ],
      "metadata": {
        "id": "zBptfRpr1JMv"
      },
      "execution_count": 126,
      "outputs": []
    },
    {
      "cell_type": "code",
      "source": [
        "train_ds[0:3]"
      ],
      "metadata": {
        "colab": {
          "base_uri": "https://localhost:8080/"
        },
        "id": "V-79Ujqj1SuG",
        "outputId": "4764e2c5-5b56-48a0-d01e-8bcb19e42170"
      },
      "execution_count": 127,
      "outputs": [
        {
          "output_type": "execute_result",
          "data": {
            "text/plain": [
              "(tensor([[ 73.,  67.,  43.],\n",
              "         [ 91.,  88.,  64.],\n",
              "         [ 87., 134.,  58.]]),\n",
              " tensor([[ 56.,  70.],\n",
              "         [ 81., 101.],\n",
              "         [119., 133.]]))"
            ]
          },
          "metadata": {},
          "execution_count": 127
        }
      ]
    },
    {
      "cell_type": "code",
      "source": [
        "from torch.utils.data import DataLoader"
      ],
      "metadata": {
        "id": "B7oyqAFB1URd"
      },
      "execution_count": 128,
      "outputs": []
    },
    {
      "cell_type": "code",
      "source": [
        "batch_size = 2\n",
        "train_dl = DataLoader(train_ds,batch_size,shuffle=True)"
      ],
      "metadata": {
        "id": "QBsEUpVa1eke"
      },
      "execution_count": 129,
      "outputs": []
    },
    {
      "cell_type": "code",
      "source": [
        "for xb , yb in train_dl:\n",
        "  print(xb)\n",
        "  print(yb)\n",
        "  break"
      ],
      "metadata": {
        "colab": {
          "base_uri": "https://localhost:8080/"
        },
        "id": "TXsns40t1m6-",
        "outputId": "935a5250-d8cd-4d3f-d163-5dfd0f9bf8b3"
      },
      "execution_count": 131,
      "outputs": [
        {
          "output_type": "stream",
          "name": "stdout",
          "text": [
            "tensor([[ 73.,  67.,  43.],\n",
            "        [ 87., 134.,  58.]])\n",
            "tensor([[ 56.,  70.],\n",
            "        [119., 133.]])\n"
          ]
        }
      ]
    },
    {
      "cell_type": "code",
      "source": [
        "model = nn.Linear(3,2)\n",
        "print(model.weight)\n",
        "print(model.bias)"
      ],
      "metadata": {
        "colab": {
          "base_uri": "https://localhost:8080/"
        },
        "id": "wYP1w79y1w1V",
        "outputId": "a850940e-2250-4660-9028-94783acec707"
      },
      "execution_count": 132,
      "outputs": [
        {
          "output_type": "stream",
          "name": "stdout",
          "text": [
            "Parameter containing:\n",
            "tensor([[-0.0804, -0.2912, -0.3322],\n",
            "        [-0.5504, -0.5554, -0.1384]], requires_grad=True)\n",
            "Parameter containing:\n",
            "tensor([0.2011, 0.4406], requires_grad=True)\n"
          ]
        }
      ]
    },
    {
      "cell_type": "code",
      "source": [
        "list(model.parameters())"
      ],
      "metadata": {
        "colab": {
          "base_uri": "https://localhost:8080/"
        },
        "id": "bfFYT3-t2Wx6",
        "outputId": "8bbc3706-acf3-43e8-e77c-7d2782cf65db"
      },
      "execution_count": 136,
      "outputs": [
        {
          "output_type": "execute_result",
          "data": {
            "text/plain": [
              "[Parameter containing:\n",
              " tensor([[-0.0804, -0.2912, -0.3322],\n",
              "         [-0.5504, -0.5554, -0.1384]], requires_grad=True),\n",
              " Parameter containing:\n",
              " tensor([0.2011, 0.4406], requires_grad=True)]"
            ]
          },
          "metadata": {},
          "execution_count": 136
        }
      ]
    },
    {
      "cell_type": "code",
      "source": [
        "pred = model(inputs)\n",
        "print(pred)"
      ],
      "metadata": {
        "colab": {
          "base_uri": "https://localhost:8080/"
        },
        "id": "g4Vintdi2eSl",
        "outputId": "372c23c2-3add-4d94-c473-e50316bb6e59"
      },
      "execution_count": 137,
      "outputs": [
        {
          "output_type": "stream",
          "name": "stdout",
          "text": [
            "tensor([[ -39.4646,  -82.9048],\n",
            "        [ -54.0039, -107.3829],\n",
            "        [ -65.0829, -129.8981],\n",
            "        [ -32.8149,  -84.7078],\n",
            "        [ -56.5577, -100.5469]], grad_fn=<AddmmBackward0>)\n"
          ]
        }
      ]
    },
    {
      "cell_type": "code",
      "source": [
        "import torch.nn.functional as F"
      ],
      "metadata": {
        "id": "UVxAgWCe2ryK"
      },
      "execution_count": 138,
      "outputs": []
    },
    {
      "cell_type": "code",
      "source": [
        "loss_fn = F.mse_loss"
      ],
      "metadata": {
        "id": "TrFYuUl820F8"
      },
      "execution_count": 139,
      "outputs": []
    },
    {
      "cell_type": "code",
      "source": [
        "loss = loss_fn(pred,targets)\n",
        "print(loss)"
      ],
      "metadata": {
        "colab": {
          "base_uri": "https://localhost:8080/"
        },
        "id": "TM50h_AC22aB",
        "outputId": "0c39d030-6808-4a36-a38c-e145a88e5148"
      },
      "execution_count": 140,
      "outputs": [
        {
          "output_type": "stream",
          "name": "stdout",
          "text": [
            "tensor(28862.1758, grad_fn=<MseLossBackward0>)\n"
          ]
        }
      ]
    },
    {
      "cell_type": "code",
      "source": [
        "opt = torch.optim.SGD(model.parameters(),lr=1e-5)"
      ],
      "metadata": {
        "id": "7SROe77U26Kb"
      },
      "execution_count": 141,
      "outputs": []
    },
    {
      "cell_type": "code",
      "source": [
        "def fit(num_epochs,model,loss_fn,opy,train_dl):\n",
        "  for epoch in range(num_epochs):\n",
        "    for xb,yb in train_dl:\n",
        "      pred = model(xb)\n",
        "      loss = loss_fn(pred,yb)\n",
        "      loss.backward()\n",
        "      opt.step()\n",
        "      opt.zero_grad()\n",
        "    if (epoch+1) % 10 == 0:\n",
        "      print('Epoch [{}/{}], Loss: {:.4f}'.format(epoch+1, num_epochs, loss.item()))\n"
      ],
      "metadata": {
        "id": "kKzk-R5I3Doa"
      },
      "execution_count": 142,
      "outputs": []
    },
    {
      "cell_type": "code",
      "source": [
        "fit(100,model,loss_fn,opt,train_dl)"
      ],
      "metadata": {
        "colab": {
          "base_uri": "https://localhost:8080/"
        },
        "id": "4S8CMUfK3nqB",
        "outputId": "5616876f-6975-499d-d34d-9723fe8ea9ae"
      },
      "execution_count": 143,
      "outputs": [
        {
          "output_type": "stream",
          "name": "stdout",
          "text": [
            "Epoch [10/100], Loss: 424.4935\n",
            "Epoch [20/100], Loss: 121.4666\n",
            "Epoch [30/100], Loss: 25.7584\n",
            "Epoch [40/100], Loss: 55.0089\n",
            "Epoch [50/100], Loss: 11.4125\n",
            "Epoch [60/100], Loss: 122.6549\n",
            "Epoch [70/100], Loss: 122.7326\n",
            "Epoch [80/100], Loss: 107.9048\n",
            "Epoch [90/100], Loss: 1.3316\n",
            "Epoch [100/100], Loss: 74.2901\n"
          ]
        }
      ]
    },
    {
      "cell_type": "code",
      "source": [
        "pred = model(inputs)\n",
        "print(pred)"
      ],
      "metadata": {
        "colab": {
          "base_uri": "https://localhost:8080/"
        },
        "id": "T4gsfKRJ3r9x",
        "outputId": "14375018-69d6-4c77-f275-21b1344281c1"
      },
      "execution_count": 144,
      "outputs": [
        {
          "output_type": "stream",
          "name": "stdout",
          "text": [
            "tensor([[ 59.6002,  71.9675],\n",
            "        [ 81.3186,  99.8698],\n",
            "        [122.3561, 135.2352],\n",
            "        [ 30.3704,  43.5477],\n",
            "        [ 94.5921, 113.7956]], grad_fn=<AddmmBackward0>)\n"
          ]
        }
      ]
    },
    {
      "cell_type": "code",
      "source": [
        "targets"
      ],
      "metadata": {
        "colab": {
          "base_uri": "https://localhost:8080/"
        },
        "id": "ML64xgZN3xaf",
        "outputId": "bc38e73e-07d2-4156-9c7b-1bae61ef963f"
      },
      "execution_count": 145,
      "outputs": [
        {
          "output_type": "execute_result",
          "data": {
            "text/plain": [
              "tensor([[ 56.,  70.],\n",
              "        [ 81., 101.],\n",
              "        [119., 133.],\n",
              "        [ 22.,  37.],\n",
              "        [103., 119.]])"
            ]
          },
          "metadata": {},
          "execution_count": 145
        }
      ]
    },
    {
      "cell_type": "code",
      "source": [
        "model(torch.tensor([[75,63,44.]]))"
      ],
      "metadata": {
        "colab": {
          "base_uri": "https://localhost:8080/"
        },
        "id": "I-Ts6iMu3ysm",
        "outputId": "63dd2496-5f67-48f4-e5d0-9b44d47f7f4d"
      },
      "execution_count": 147,
      "outputs": [
        {
          "output_type": "execute_result",
          "data": {
            "text/plain": [
              "tensor([[55.8498, 68.9316]], grad_fn=<AddmmBackward0>)"
            ]
          },
          "metadata": {},
          "execution_count": 147
        }
      ]
    },
    {
      "cell_type": "code",
      "source": [],
      "metadata": {
        "id": "dsVyF9n-4Ftt"
      },
      "execution_count": null,
      "outputs": []
    }
  ]
}