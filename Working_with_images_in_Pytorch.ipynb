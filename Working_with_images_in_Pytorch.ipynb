{
  "nbformat": 4,
  "nbformat_minor": 0,
  "metadata": {
    "colab": {
      "provenance": [],
      "gpuType": "T4",
      "authorship_tag": "ABX9TyN+oBriZkndTAQaWItER5Bk",
      "include_colab_link": true
    },
    "kernelspec": {
      "name": "python3",
      "display_name": "Python 3"
    },
    "language_info": {
      "name": "python"
    },
    "accelerator": "GPU"
  },
  "cells": [
    {
      "cell_type": "markdown",
      "metadata": {
        "id": "view-in-github",
        "colab_type": "text"
      },
      "source": [
        "<a href=\"https://colab.research.google.com/github/PlanetDestroyyer/Pytorch-Tutorial/blob/main/Working_with_images_in_Pytorch.ipynb\" target=\"_parent\"><img src=\"https://colab.research.google.com/assets/colab-badge.svg\" alt=\"Open In Colab\"/></a>"
      ]
    },
    {
      "cell_type": "code",
      "execution_count": 1,
      "metadata": {
        "id": "HrfMAQFiHI0r"
      },
      "outputs": [],
      "source": [
        "import torch\n",
        "import torchvision\n",
        "from torchvision.datasets import MNIST"
      ]
    },
    {
      "cell_type": "code",
      "source": [
        "dataset = MNIST(root='data/',download=True)"
      ],
      "metadata": {
        "colab": {
          "base_uri": "https://localhost:8080/"
        },
        "id": "sU_GVO3tHi8e",
        "outputId": "c8650c7a-f380-4f2e-88fd-544ae7a860d3"
      },
      "execution_count": 2,
      "outputs": [
        {
          "output_type": "stream",
          "name": "stdout",
          "text": [
            "Downloading http://yann.lecun.com/exdb/mnist/train-images-idx3-ubyte.gz\n",
            "Failed to download (trying next):\n",
            "HTTP Error 403: Forbidden\n",
            "\n",
            "Downloading https://ossci-datasets.s3.amazonaws.com/mnist/train-images-idx3-ubyte.gz\n",
            "Downloading https://ossci-datasets.s3.amazonaws.com/mnist/train-images-idx3-ubyte.gz to data/MNIST/raw/train-images-idx3-ubyte.gz\n"
          ]
        },
        {
          "output_type": "stream",
          "name": "stderr",
          "text": [
            "100%|██████████| 9912422/9912422 [00:02<00:00, 4151039.05it/s]\n"
          ]
        },
        {
          "output_type": "stream",
          "name": "stdout",
          "text": [
            "Extracting data/MNIST/raw/train-images-idx3-ubyte.gz to data/MNIST/raw\n",
            "\n",
            "Downloading http://yann.lecun.com/exdb/mnist/train-labels-idx1-ubyte.gz\n",
            "Failed to download (trying next):\n",
            "HTTP Error 403: Forbidden\n",
            "\n",
            "Downloading https://ossci-datasets.s3.amazonaws.com/mnist/train-labels-idx1-ubyte.gz\n",
            "Downloading https://ossci-datasets.s3.amazonaws.com/mnist/train-labels-idx1-ubyte.gz to data/MNIST/raw/train-labels-idx1-ubyte.gz\n"
          ]
        },
        {
          "output_type": "stream",
          "name": "stderr",
          "text": [
            "100%|██████████| 28881/28881 [00:00<00:00, 131482.01it/s]\n"
          ]
        },
        {
          "output_type": "stream",
          "name": "stdout",
          "text": [
            "Extracting data/MNIST/raw/train-labels-idx1-ubyte.gz to data/MNIST/raw\n",
            "\n",
            "Downloading http://yann.lecun.com/exdb/mnist/t10k-images-idx3-ubyte.gz\n",
            "Failed to download (trying next):\n",
            "HTTP Error 403: Forbidden\n",
            "\n",
            "Downloading https://ossci-datasets.s3.amazonaws.com/mnist/t10k-images-idx3-ubyte.gz\n",
            "Downloading https://ossci-datasets.s3.amazonaws.com/mnist/t10k-images-idx3-ubyte.gz to data/MNIST/raw/t10k-images-idx3-ubyte.gz\n"
          ]
        },
        {
          "output_type": "stream",
          "name": "stderr",
          "text": [
            "100%|██████████| 1648877/1648877 [00:01<00:00, 1075926.74it/s]\n"
          ]
        },
        {
          "output_type": "stream",
          "name": "stdout",
          "text": [
            "Extracting data/MNIST/raw/t10k-images-idx3-ubyte.gz to data/MNIST/raw\n",
            "\n",
            "Downloading http://yann.lecun.com/exdb/mnist/t10k-labels-idx1-ubyte.gz\n",
            "Failed to download (trying next):\n",
            "HTTP Error 403: Forbidden\n",
            "\n",
            "Downloading https://ossci-datasets.s3.amazonaws.com/mnist/t10k-labels-idx1-ubyte.gz\n",
            "Downloading https://ossci-datasets.s3.amazonaws.com/mnist/t10k-labels-idx1-ubyte.gz to data/MNIST/raw/t10k-labels-idx1-ubyte.gz\n"
          ]
        },
        {
          "output_type": "stream",
          "name": "stderr",
          "text": [
            "100%|██████████| 4542/4542 [00:00<00:00, 9097673.72it/s]\n"
          ]
        },
        {
          "output_type": "stream",
          "name": "stdout",
          "text": [
            "Extracting data/MNIST/raw/t10k-labels-idx1-ubyte.gz to data/MNIST/raw\n",
            "\n"
          ]
        }
      ]
    },
    {
      "cell_type": "code",
      "source": [
        "len(dataset)"
      ],
      "metadata": {
        "colab": {
          "base_uri": "https://localhost:8080/"
        },
        "id": "V7PrB1w9HtZu",
        "outputId": "8f521e73-0c52-4002-99df-c73a65b07022"
      },
      "execution_count": 3,
      "outputs": [
        {
          "output_type": "execute_result",
          "data": {
            "text/plain": [
              "60000"
            ]
          },
          "metadata": {},
          "execution_count": 3
        }
      ]
    },
    {
      "cell_type": "code",
      "source": [
        "test_dataset = MNIST(root='data/',train=False)\n",
        "len(test_dataset)"
      ],
      "metadata": {
        "colab": {
          "base_uri": "https://localhost:8080/"
        },
        "id": "fztZrA7oHvr5",
        "outputId": "33045084-0b1c-4aa3-d8ce-805e70aabd50"
      },
      "execution_count": 4,
      "outputs": [
        {
          "output_type": "execute_result",
          "data": {
            "text/plain": [
              "10000"
            ]
          },
          "metadata": {},
          "execution_count": 4
        }
      ]
    },
    {
      "cell_type": "code",
      "source": [
        "dataset[0]"
      ],
      "metadata": {
        "colab": {
          "base_uri": "https://localhost:8080/"
        },
        "id": "DYId9eY0IAPZ",
        "outputId": "7729591b-e903-4e00-a655-baa30d9639aa"
      },
      "execution_count": 5,
      "outputs": [
        {
          "output_type": "execute_result",
          "data": {
            "text/plain": [
              "(<PIL.Image.Image image mode=L size=28x28>, 5)"
            ]
          },
          "metadata": {},
          "execution_count": 5
        }
      ]
    },
    {
      "cell_type": "code",
      "source": [
        "import matplotlib.pyplot as plt\n",
        "%matplotlib inline"
      ],
      "metadata": {
        "id": "s8AbEwIvICde"
      },
      "execution_count": 6,
      "outputs": []
    },
    {
      "cell_type": "code",
      "source": [
        "plt.imshow(dataset[0][0])"
      ],
      "metadata": {
        "colab": {
          "base_uri": "https://localhost:8080/",
          "height": 467
        },
        "id": "J7wzAvzeIHaQ",
        "outputId": "a43ed872-a64f-4389-8145-278c6ec1ef0b"
      },
      "execution_count": 7,
      "outputs": [
        {
          "output_type": "execute_result",
          "data": {
            "text/plain": [
              "<matplotlib.image.AxesImage at 0x7f643fbc0940>"
            ]
          },
          "metadata": {},
          "execution_count": 7
        },
        {
          "output_type": "display_data",
          "data": {
            "text/plain": [
              "<Figure size 640x480 with 1 Axes>"
            ],
            "image/png": "[encoded data removed]"
          },
          "metadata": {}
        }
      ]
    },
    {
      "cell_type": "code",
      "source": [
        "image,label = dataset[0]\n",
        "plt.imshow(image)\n",
        "print(label)"
      ],
      "metadata": {
        "colab": {
          "base_uri": "https://localhost:8080/",
          "height": 467
        },
        "id": "16ViYsPYIM86",
        "outputId": "95ac042c-d446-4456-d176-cb09a95cfe01"
      },
      "execution_count": 8,
      "outputs": [
        {
          "output_type": "stream",
          "name": "stdout",
          "text": [
            "5\n"
          ]
        },
        {
          "output_type": "display_data",
          "data": {
            "text/plain": [
              "<Figure size 640x480 with 1 Axes>"
            ],
            "image/png": "[encoded data removed]"
          },
          "metadata": {}
        }
      ]
    },
    {
      "cell_type": "code",
      "source": [
        "image,label = dataset[3]\n",
        "plt.imshow(image)\n",
        "print(label)"
      ],
      "metadata": {
        "colab": {
          "base_uri": "https://localhost:8080/",
          "height": 467
        },
        "id": "JtJA6mfMIjkz",
        "outputId": "076ab13d-943b-483c-95ad-37abacc184f0"
      },
      "execution_count": 9,
      "outputs": [
        {
          "output_type": "stream",
          "name": "stdout",
          "text": [
            "1\n"
          ]
        },
        {
          "output_type": "display_data",
          "data": {
            "text/plain": [
              "<Figure size 640x480 with 1 Axes>"
            ],
            "image/png": "[encoded data removed]"
          },
          "metadata": {}
        }
      ]
    },
    {
      "cell_type": "code",
      "source": [
        "image,label = dataset[6]\n",
        "plt.imshow(image)\n",
        "print(label)"
      ],
      "metadata": {
        "colab": {
          "base_uri": "https://localhost:8080/",
          "height": 467
        },
        "id": "LP-cQOMmIoRT",
        "outputId": "ac9b1c74-a25b-4642-e9ac-784af4d4109d"
      },
      "execution_count": 10,
      "outputs": [
        {
          "output_type": "stream",
          "name": "stdout",
          "text": [
            "1\n"
          ]
        },
        {
          "output_type": "display_data",
          "data": {
            "text/plain": [
              "<Figure size 640x480 with 1 Axes>"
            ],
            "image/png": "[encoded data removed]"
          },
          "metadata": {}
        }
      ]
    },
    {
      "cell_type": "code",
      "source": [
        "import torchvision.transforms as transforms"
      ],
      "metadata": {
        "id": "7NqCXzdcIs93"
      },
      "execution_count": 11,
      "outputs": []
    },
    {
      "cell_type": "code",
      "source": [
        "dataset = MNIST(root='data/',train=True,transform=transforms.ToTensor())"
      ],
      "metadata": {
        "id": "DcsW8nXiIzSE"
      },
      "execution_count": 12,
      "outputs": []
    },
    {
      "cell_type": "code",
      "source": [
        "img_tensor , label = dataset[0]\n",
        "print(img_tensor.shape)\n",
        "print(label)"
      ],
      "metadata": {
        "colab": {
          "base_uri": "https://localhost:8080/"
        },
        "id": "tObmDEuyI7Vz",
        "outputId": "b930380f-af24-4801-c789-1f69373a8fdd"
      },
      "execution_count": 13,
      "outputs": [
        {
          "output_type": "stream",
          "name": "stdout",
          "text": [
            "torch.Size([1, 28, 28])\n",
            "5\n"
          ]
        }
      ]
    },
    {
      "cell_type": "code",
      "source": [
        "plt.imshow(img_tensor[0])\n",
        "print(label)"
      ],
      "metadata": {
        "colab": {
          "base_uri": "https://localhost:8080/",
          "height": 467
        },
        "id": "ztRqJ8eSJAX6",
        "outputId": "c5433e65-443d-4ec5-bc92-f4fb9a09a8a6"
      },
      "execution_count": 14,
      "outputs": [
        {
          "output_type": "stream",
          "name": "stdout",
          "text": [
            "5\n"
          ]
        },
        {
          "output_type": "display_data",
          "data": {
            "text/plain": [
              "<Figure size 640x480 with 1 Axes>"
            ],
            "image/png": "[encoded data removed]"
          },
          "metadata": {}
        }
      ]
    },
    {
      "cell_type": "code",
      "source": [
        "plt.imshow(img_tensor[0,10:15,10:15],cmap='gray');\n",
        "print(img_tensor[0,10:15,10:15])"
      ],
      "metadata": {
        "colab": {
          "base_uri": "https://localhost:8080/",
          "height": 537
        },
        "id": "ZRkZRH4pJeRF",
        "outputId": "cb36f568-543f-46cc-bcfc-6ab637bc294d"
      },
      "execution_count": 15,
      "outputs": [
        {
          "output_type": "stream",
          "name": "stdout",
          "text": [
            "tensor([[0.0039, 0.6039, 0.9922, 0.3529, 0.0000],\n",
            "        [0.0000, 0.5451, 0.9922, 0.7451, 0.0078],\n",
            "        [0.0000, 0.0431, 0.7451, 0.9922, 0.2745],\n",
            "        [0.0000, 0.0000, 0.1373, 0.9451, 0.8824],\n",
            "        [0.0000, 0.0000, 0.0000, 0.3176, 0.9412]])\n"
          ]
        },
        {
          "output_type": "display_data",
          "data": {
            "text/plain": [
              "<Figure size 640x480 with 1 Axes>"
            ],
            "image/png": "[encoded data removed]"
          },
          "metadata": {}
        }
      ]
    },
    {
      "cell_type": "code",
      "source": [
        "from torch.utils.data import random_split\n",
        "train_ds,val_ds = random_split(dataset,[50000,10000])\n",
        "len(train_ds),len(val_ds)"
      ],
      "metadata": {
        "colab": {
          "base_uri": "https://localhost:8080/"
        },
        "id": "5Zc8ANFjJsv-",
        "outputId": "53741b48-1e66-4565-b7b4-0c82be0d3fe7"
      },
      "execution_count": 16,
      "outputs": [
        {
          "output_type": "execute_result",
          "data": {
            "text/plain": [
              "(50000, 10000)"
            ]
          },
          "metadata": {},
          "execution_count": 16
        }
      ]
    },
    {
      "cell_type": "code",
      "source": [
        "from torch.utils.data import DataLoader"
      ],
      "metadata": {
        "id": "rD99v2hJKcxD"
      },
      "execution_count": 17,
      "outputs": []
    },
    {
      "cell_type": "code",
      "source": [
        "batch_size = 150\n",
        "train_loader = DataLoader(train_ds,batch_size,shuffle=True)\n",
        "val_loader = DataLoader(val_ds,batch_size)"
      ],
      "metadata": {
        "id": "Zb9trlYiKj0Z"
      },
      "execution_count": 18,
      "outputs": []
    },
    {
      "cell_type": "code",
      "source": [
        "import torch.nn as nn\n",
        "from torch.nn import functional as F"
      ],
      "metadata": {
        "id": "0-pLTYQaLF7Q"
      },
      "execution_count": 19,
      "outputs": []
    },
    {
      "cell_type": "code",
      "source": [
        "input_size = 784\n",
        "num_classes = 10"
      ],
      "metadata": {
        "id": "GTkzMjQcLXgH"
      },
      "execution_count": 20,
      "outputs": []
    },
    {
      "cell_type": "code",
      "source": [
        "model = nn.Linear(input_size,num_classes)"
      ],
      "metadata": {
        "id": "RneSznYPdjmE"
      },
      "execution_count": 21,
      "outputs": []
    },
    {
      "cell_type": "code",
      "source": [
        "print(model.weight.shape)\n",
        "print(model.bias.shape)"
      ],
      "metadata": {
        "colab": {
          "base_uri": "https://localhost:8080/"
        },
        "id": "RHYvF1b2dnhS",
        "outputId": "e2b0a2b6-f9b4-4825-9ecf-bb08f189e686"
      },
      "execution_count": 22,
      "outputs": [
        {
          "output_type": "stream",
          "name": "stdout",
          "text": [
            "torch.Size([10, 784])\n",
            "torch.Size([10])\n"
          ]
        }
      ]
    },
    {
      "cell_type": "code",
      "source": [
        "model.weight"
      ],
      "metadata": {
        "colab": {
          "base_uri": "https://localhost:8080/"
        },
        "id": "1U7mzUEudpbJ",
        "outputId": "68637f70-6d60-4c0c-9b89-94f0b1a747de"
      },
      "execution_count": 23,
      "outputs": [
        {
          "output_type": "execute_result",
          "data": {
            "text/plain": [
              "Parameter containing:\n",
              "tensor([[ 0.0175,  0.0188,  0.0341,  ..., -0.0283,  0.0251, -0.0259],\n",
              "        [ 0.0285, -0.0292, -0.0106,  ...,  0.0058,  0.0084,  0.0063],\n",
              "        [ 0.0303,  0.0101, -0.0107,  ..., -0.0250, -0.0252,  0.0016],\n",
              "        ...,\n",
              "        [ 0.0228, -0.0079, -0.0078,  ...,  0.0275, -0.0019, -0.0352],\n",
              "        [-0.0154, -0.0332,  0.0017,  ..., -0.0247,  0.0226,  0.0134],\n",
              "        [ 0.0218, -0.0271, -0.0053,  ...,  0.0113, -0.0026,  0.0295]],\n",
              "       requires_grad=True)"
            ]
          },
          "metadata": {},
          "execution_count": 23
        }
      ]
    },
    {
      "cell_type": "code",
      "source": [
        "model.bias"
      ],
      "metadata": {
        "colab": {
          "base_uri": "https://localhost:8080/"
        },
        "id": "0bjVdlLfd2qb",
        "outputId": "590ff817-e1f7-4f5c-982e-41765a42e1a5"
      },
      "execution_count": 24,
      "outputs": [
        {
          "output_type": "execute_result",
          "data": {
            "text/plain": [
              "Parameter containing:\n",
              "tensor([-1.7588e-03, -3.4088e-02, -2.4442e-05,  2.4997e-02, -2.2427e-02,\n",
              "        -4.6830e-03,  3.2898e-03, -1.9891e-02,  2.4585e-02, -9.5234e-03],\n",
              "       requires_grad=True)"
            ]
          },
          "metadata": {},
          "execution_count": 24
        }
      ]
    },
    {
      "cell_type": "code",
      "source": [
        "for images,labels in train_loader:\n",
        "  print(images.shape)\n",
        "  print(labels)\n",
        "  outputs = model(images)\n",
        "  break"
      ],
      "metadata": {
        "colab": {
          "base_uri": "https://localhost:8080/",
          "height": 498
        },
        "id": "PeqGXDSWd4HR",
        "outputId": "c86f57fd-8523-406d-e669-79e5fadcd10c"
      },
      "execution_count": 25,
      "outputs": [
        {
          "output_type": "stream",
          "name": "stdout",
          "text": [
            "torch.Size([150, 1, 28, 28])\n",
            "tensor([8, 4, 5, 3, 1, 5, 8, 1, 1, 6, 5, 3, 6, 3, 3, 5, 1, 7, 3, 7, 7, 2, 6, 5,\n",
            "        3, 7, 7, 4, 6, 7, 1, 6, 9, 0, 1, 8, 6, 1, 8, 4, 3, 7, 4, 8, 4, 6, 6, 1,\n",
            "        7, 0, 2, 3, 9, 7, 7, 7, 8, 3, 1, 8, 0, 8, 7, 5, 6, 6, 6, 4, 1, 8, 9, 8,\n",
            "        5, 3, 0, 8, 7, 1, 6, 6, 1, 7, 3, 1, 7, 5, 0, 3, 3, 2, 8, 1, 0, 1, 2, 1,\n",
            "        3, 4, 8, 9, 8, 2, 6, 8, 4, 7, 1, 2, 7, 5, 8, 7, 5, 8, 7, 7, 6, 2, 7, 6,\n",
            "        2, 0, 9, 8, 1, 1, 8, 6, 1, 9, 8, 0, 0, 1, 3, 5, 2, 8, 6, 7, 9, 9, 4, 3,\n",
            "        2, 8, 7, 5, 2, 4])\n"
          ]
        },
        {
          "output_type": "error",
          "ename": "RuntimeError",
          "evalue": "mat1 and mat2 shapes cannot be multiplied (4200x28 and 784x10)",
          "traceback": [
            "\u001b[0;31m---------------------------------------------------------------------------\u001b[0m",
            "\u001b[0;31mRuntimeError\u001b[0m                              Traceback (most recent call last)",
            "\u001b[0;32m<ipython-input-25-f2c8e55fa226>\u001b[0m in \u001b[0;36m<cell line: 1>\u001b[0;34m()\u001b[0m\n\u001b[1;32m      2\u001b[0m   \u001b[0mprint\u001b[0m\u001b[0;34m(\u001b[0m\u001b[0mimages\u001b[0m\u001b[0;34m.\u001b[0m\u001b[0mshape\u001b[0m\u001b[0;34m)\u001b[0m\u001b[0;34m\u001b[0m\u001b[0;34m\u001b[0m\u001b[0m\n\u001b[1;32m      3\u001b[0m   \u001b[0mprint\u001b[0m\u001b[0;34m(\u001b[0m\u001b[0mlabels\u001b[0m\u001b[0;34m)\u001b[0m\u001b[0;34m\u001b[0m\u001b[0;34m\u001b[0m\u001b[0m\n\u001b[0;32m----> 4\u001b[0;31m   \u001b[0moutputs\u001b[0m \u001b[0;34m=\u001b[0m \u001b[0mmodel\u001b[0m\u001b[0;34m(\u001b[0m\u001b[0mimages\u001b[0m\u001b[0;34m)\u001b[0m\u001b[0;34m\u001b[0m\u001b[0;34m\u001b[0m\u001b[0m\n\u001b[0m\u001b[1;32m      5\u001b[0m   \u001b[0;32mbreak\u001b[0m\u001b[0;34m\u001b[0m\u001b[0;34m\u001b[0m\u001b[0m\n",
            "\u001b[0;32m/usr/local/lib/python3.10/dist-packages/torch/nn/modules/module.py\u001b[0m in \u001b[0;36m_wrapped_call_impl\u001b[0;34m(self, *args, **kwargs)\u001b[0m\n\u001b[1;32m   1551\u001b[0m             \u001b[0;32mreturn\u001b[0m \u001b[0mself\u001b[0m\u001b[0;34m.\u001b[0m\u001b[0m_compiled_call_impl\u001b[0m\u001b[0;34m(\u001b[0m\u001b[0;34m*\u001b[0m\u001b[0margs\u001b[0m\u001b[0;34m,\u001b[0m \u001b[0;34m**\u001b[0m\u001b[0mkwargs\u001b[0m\u001b[0;34m)\u001b[0m  \u001b[0;31m# type: ignore[misc]\u001b[0m\u001b[0;34m\u001b[0m\u001b[0;34m\u001b[0m\u001b[0m\n\u001b[1;32m   1552\u001b[0m         \u001b[0;32melse\u001b[0m\u001b[0;34m:\u001b[0m\u001b[0;34m\u001b[0m\u001b[0;34m\u001b[0m\u001b[0m\n\u001b[0;32m-> 1553\u001b[0;31m             \u001b[0;32mreturn\u001b[0m \u001b[0mself\u001b[0m\u001b[0;34m.\u001b[0m\u001b[0m_call_impl\u001b[0m\u001b[0;34m(\u001b[0m\u001b[0;34m*\u001b[0m\u001b[0margs\u001b[0m\u001b[0;34m,\u001b[0m \u001b[0;34m**\u001b[0m\u001b[0mkwargs\u001b[0m\u001b[0;34m)\u001b[0m\u001b[0;34m\u001b[0m\u001b[0;34m\u001b[0m\u001b[0m\n\u001b[0m\u001b[1;32m   1554\u001b[0m \u001b[0;34m\u001b[0m\u001b[0m\n\u001b[1;32m   1555\u001b[0m     \u001b[0;32mdef\u001b[0m \u001b[0m_call_impl\u001b[0m\u001b[0;34m(\u001b[0m\u001b[0mself\u001b[0m\u001b[0;34m,\u001b[0m \u001b[0;34m*\u001b[0m\u001b[0margs\u001b[0m\u001b[0;34m,\u001b[0m \u001b[0;34m**\u001b[0m\u001b[0mkwargs\u001b[0m\u001b[0;34m)\u001b[0m\u001b[0;34m:\u001b[0m\u001b[0;34m\u001b[0m\u001b[0;34m\u001b[0m\u001b[0m\n",
            "\u001b[0;32m/usr/local/lib/python3.10/dist-packages/torch/nn/modules/module.py\u001b[0m in \u001b[0;36m_call_impl\u001b[0;34m(self, *args, **kwargs)\u001b[0m\n\u001b[1;32m   1560\u001b[0m                 \u001b[0;32mor\u001b[0m \u001b[0m_global_backward_pre_hooks\u001b[0m \u001b[0;32mor\u001b[0m \u001b[0m_global_backward_hooks\u001b[0m\u001b[0;34m\u001b[0m\u001b[0;34m\u001b[0m\u001b[0m\n\u001b[1;32m   1561\u001b[0m                 or _global_forward_hooks or _global_forward_pre_hooks):\n\u001b[0;32m-> 1562\u001b[0;31m             \u001b[0;32mreturn\u001b[0m \u001b[0mforward_call\u001b[0m\u001b[0;34m(\u001b[0m\u001b[0;34m*\u001b[0m\u001b[0margs\u001b[0m\u001b[0;34m,\u001b[0m \u001b[0;34m**\u001b[0m\u001b[0mkwargs\u001b[0m\u001b[0;34m)\u001b[0m\u001b[0;34m\u001b[0m\u001b[0;34m\u001b[0m\u001b[0m\n\u001b[0m\u001b[1;32m   1563\u001b[0m \u001b[0;34m\u001b[0m\u001b[0m\n\u001b[1;32m   1564\u001b[0m         \u001b[0;32mtry\u001b[0m\u001b[0;34m:\u001b[0m\u001b[0;34m\u001b[0m\u001b[0;34m\u001b[0m\u001b[0m\n",
            "\u001b[0;32m/usr/local/lib/python3.10/dist-packages/torch/nn/modules/linear.py\u001b[0m in \u001b[0;36mforward\u001b[0;34m(self, input)\u001b[0m\n\u001b[1;32m    115\u001b[0m \u001b[0;34m\u001b[0m\u001b[0m\n\u001b[1;32m    116\u001b[0m     \u001b[0;32mdef\u001b[0m \u001b[0mforward\u001b[0m\u001b[0;34m(\u001b[0m\u001b[0mself\u001b[0m\u001b[0;34m,\u001b[0m \u001b[0minput\u001b[0m\u001b[0;34m:\u001b[0m \u001b[0mTensor\u001b[0m\u001b[0;34m)\u001b[0m \u001b[0;34m->\u001b[0m \u001b[0mTensor\u001b[0m\u001b[0;34m:\u001b[0m\u001b[0;34m\u001b[0m\u001b[0;34m\u001b[0m\u001b[0m\n\u001b[0;32m--> 117\u001b[0;31m         \u001b[0;32mreturn\u001b[0m \u001b[0mF\u001b[0m\u001b[0;34m.\u001b[0m\u001b[0mlinear\u001b[0m\u001b[0;34m(\u001b[0m\u001b[0minput\u001b[0m\u001b[0;34m,\u001b[0m \u001b[0mself\u001b[0m\u001b[0;34m.\u001b[0m\u001b[0mweight\u001b[0m\u001b[0;34m,\u001b[0m \u001b[0mself\u001b[0m\u001b[0;34m.\u001b[0m\u001b[0mbias\u001b[0m\u001b[0;34m)\u001b[0m\u001b[0;34m\u001b[0m\u001b[0;34m\u001b[0m\u001b[0m\n\u001b[0m\u001b[1;32m    118\u001b[0m \u001b[0;34m\u001b[0m\u001b[0m\n\u001b[1;32m    119\u001b[0m     \u001b[0;32mdef\u001b[0m \u001b[0mextra_repr\u001b[0m\u001b[0;34m(\u001b[0m\u001b[0mself\u001b[0m\u001b[0;34m)\u001b[0m \u001b[0;34m->\u001b[0m \u001b[0mstr\u001b[0m\u001b[0;34m:\u001b[0m\u001b[0;34m\u001b[0m\u001b[0;34m\u001b[0m\u001b[0m\n",
            "\u001b[0;31mRuntimeError\u001b[0m: mat1 and mat2 shapes cannot be multiplied (4200x28 and 784x10)"
          ]
        }
      ]
    },
    {
      "cell_type": "code",
      "source": [
        "images.shape"
      ],
      "metadata": {
        "colab": {
          "base_uri": "https://localhost:8080/"
        },
        "id": "oYbT9FjLeQ5e",
        "outputId": "a2dd0c23-bff9-4ef4-ba4e-b5552999ac74"
      },
      "execution_count": 26,
      "outputs": [
        {
          "output_type": "execute_result",
          "data": {
            "text/plain": [
              "torch.Size([150, 1, 28, 28])"
            ]
          },
          "metadata": {},
          "execution_count": 26
        }
      ]
    },
    {
      "cell_type": "code",
      "source": [
        "images.reshape(-1,784).shape\n"
      ],
      "metadata": {
        "colab": {
          "base_uri": "https://localhost:8080/"
        },
        "id": "b8VEO4-MeTu1",
        "outputId": "5add8088-a17a-43e6-bba2-e78a1c3c92b1"
      },
      "execution_count": 27,
      "outputs": [
        {
          "output_type": "execute_result",
          "data": {
            "text/plain": [
              "torch.Size([150, 784])"
            ]
          },
          "metadata": {},
          "execution_count": 27
        }
      ]
    },
    {
      "cell_type": "code",
      "source": [
        "class MNIST_model(nn.Module):\n",
        "  def __init__(self):\n",
        "    super().__init__()\n",
        "    self.linear = nn.Linear(input_size,num_classes)\n",
        "\n",
        "  def forward(self,x):\n",
        "    x = x.reshape(-1,784)\n",
        "    out = self.linear(x)\n",
        "    return out"
      ],
      "metadata": {
        "id": "Es15TDQyeYzU"
      },
      "execution_count": 32,
      "outputs": []
    },
    {
      "cell_type": "code",
      "source": [
        "model = MNIST_model()"
      ],
      "metadata": {
        "id": "c8PeWHCvf33H"
      },
      "execution_count": 33,
      "outputs": []
    },
    {
      "cell_type": "code",
      "source": [
        "model.linear"
      ],
      "metadata": {
        "colab": {
          "base_uri": "https://localhost:8080/"
        },
        "id": "71Q1AxioghOx",
        "outputId": "fc16f8ce-892e-4d22-eb41-7c8a043a8054"
      },
      "execution_count": 34,
      "outputs": [
        {
          "output_type": "execute_result",
          "data": {
            "text/plain": [
              "Linear(in_features=784, out_features=10, bias=True)"
            ]
          },
          "metadata": {},
          "execution_count": 34
        }
      ]
    },
    {
      "cell_type": "code",
      "source": [
        "print(model.linear.weight.shape)\n",
        "print(model.linear.bias.shape)"
      ],
      "metadata": {
        "colab": {
          "base_uri": "https://localhost:8080/"
        },
        "id": "qkG0KixoguZc",
        "outputId": "74a4b410-d9aa-45ae-b70a-606e7503fb11"
      },
      "execution_count": 36,
      "outputs": [
        {
          "output_type": "stream",
          "name": "stdout",
          "text": [
            "torch.Size([10, 784])\n",
            "torch.Size([10])\n"
          ]
        }
      ]
    },
    {
      "cell_type": "code",
      "source": [
        "list(model.parameters())"
      ],
      "metadata": {
        "colab": {
          "base_uri": "https://localhost:8080/"
        },
        "id": "zvTckL05gwd9",
        "outputId": "50e41795-2de3-4d2e-a6e8-8d730d953465"
      },
      "execution_count": 37,
      "outputs": [
        {
          "output_type": "execute_result",
          "data": {
            "text/plain": [
              "[Parameter containing:\n",
              " tensor([[-0.0167,  0.0029,  0.0071,  ...,  0.0222,  0.0207,  0.0014],\n",
              "         [ 0.0071, -0.0069, -0.0102,  ..., -0.0036, -0.0180, -0.0067],\n",
              "         [-0.0046,  0.0167,  0.0224,  ...,  0.0301,  0.0208, -0.0318],\n",
              "         ...,\n",
              "         [-0.0169,  0.0235, -0.0356,  ..., -0.0153, -0.0135,  0.0196],\n",
              "         [-0.0279,  0.0283,  0.0112,  ..., -0.0145, -0.0208,  0.0277],\n",
              "         [ 0.0224, -0.0091,  0.0128,  ...,  0.0121, -0.0139, -0.0079]],\n",
              "        requires_grad=True),\n",
              " Parameter containing:\n",
              " tensor([-0.0301, -0.0201,  0.0099,  0.0058, -0.0302,  0.0156,  0.0341,  0.0222,\n",
              "          0.0120, -0.0275], requires_grad=True)]"
            ]
          },
          "metadata": {},
          "execution_count": 37
        }
      ]
    },
    {
      "cell_type": "code",
      "source": [
        "for images,labels in train_loader:\n",
        "  outputs = model(images)\n",
        "  print(outputs)\n",
        "  print(labels)\n",
        "  break"
      ],
      "metadata": {
        "colab": {
          "base_uri": "https://localhost:8080/"
        },
        "id": "HZnBG6RbhOkm",
        "outputId": "d0702657-7989-49af-ddd1-0743846fff14"
      },
      "execution_count": 39,
      "outputs": [
        {
          "output_type": "stream",
          "name": "stdout",
          "text": [
            "tensor([[-0.1634,  0.3099,  0.2661,  ...,  0.3489, -0.3743, -0.1980],\n",
            "        [-0.1305,  0.1367,  0.0130,  ...,  0.2649, -0.1631,  0.0844],\n",
            "        [-0.0443, -0.1287,  0.0365,  ..., -0.1645,  0.2071,  0.1998],\n",
            "        ...,\n",
            "        [-0.0311, -0.0661,  0.3300,  ..., -0.0893,  0.0777,  0.1464],\n",
            "        [-0.1236, -0.0537,  0.1634,  ..., -0.0097, -0.0362,  0.0009],\n",
            "        [-0.0843, -0.0200,  0.0715,  ...,  0.1039, -0.1242, -0.0250]],\n",
            "       grad_fn=<AddmmBackward0>)\n",
            "tensor([0, 5, 7, 7, 2, 1, 0, 7, 5, 8, 8, 7, 6, 4, 7, 9, 3, 1, 2, 2, 1, 1, 0, 2,\n",
            "        2, 2, 2, 4, 8, 3, 9, 8, 9, 1, 2, 8, 2, 1, 0, 0, 3, 8, 5, 3, 8, 1, 9, 1,\n",
            "        3, 2, 1, 6, 7, 2, 1, 5, 0, 8, 7, 8, 7, 8, 5, 1, 5, 0, 5, 7, 8, 7, 3, 7,\n",
            "        6, 0, 9, 7, 3, 3, 3, 5, 9, 4, 3, 3, 2, 2, 7, 4, 2, 1, 2, 3, 0, 5, 1, 6,\n",
            "        0, 7, 9, 6, 1, 3, 8, 0, 2, 9, 7, 8, 4, 4, 5, 2, 2, 5, 2, 4, 2, 5, 8, 3,\n",
            "        3, 6, 2, 1, 8, 3, 6, 4, 9, 7, 4, 0, 4, 3, 1, 2, 5, 7, 9, 8, 5, 3, 2, 2,\n",
            "        1, 8, 7, 8, 4, 9])\n"
          ]
        }
      ]
    },
    {
      "cell_type": "code",
      "source": [
        "len(labels)"
      ],
      "metadata": {
        "colab": {
          "base_uri": "https://localhost:8080/"
        },
        "id": "gy-XBQDnh1re",
        "outputId": "6f272494-51ad-4384-b4f9-4d878e6df7b5"
      },
      "execution_count": 42,
      "outputs": [
        {
          "output_type": "execute_result",
          "data": {
            "text/plain": [
              "150"
            ]
          },
          "metadata": {},
          "execution_count": 42
        }
      ]
    },
    {
      "cell_type": "code",
      "source": [
        "outputs.shape"
      ],
      "metadata": {
        "colab": {
          "base_uri": "https://localhost:8080/"
        },
        "id": "PFX-UtYUhXVJ",
        "outputId": "dcf9ed00-2ec3-4f8a-f384-83791bf3a116"
      },
      "execution_count": 40,
      "outputs": [
        {
          "output_type": "execute_result",
          "data": {
            "text/plain": [
              "torch.Size([150, 10])"
            ]
          },
          "metadata": {},
          "execution_count": 40
        }
      ]
    },
    {
      "cell_type": "code",
      "source": [
        "outputs[:2].data"
      ],
      "metadata": {
        "colab": {
          "base_uri": "https://localhost:8080/"
        },
        "id": "GFKPxa3Jhgtq",
        "outputId": "a3557593-633d-4b03-8f2d-00122888e75f"
      },
      "execution_count": 41,
      "outputs": [
        {
          "output_type": "execute_result",
          "data": {
            "text/plain": [
              "tensor([[-0.1634,  0.3099,  0.2661,  0.3713,  0.1988,  0.0860, -0.1204,  0.3489,\n",
              "         -0.3743, -0.1980],\n",
              "        [-0.1305,  0.1367,  0.0130, -0.1244,  0.1083,  0.0342,  0.0303,  0.2649,\n",
              "         -0.1631,  0.0844]])"
            ]
          },
          "metadata": {},
          "execution_count": 41
        }
      ]
    },
    {
      "cell_type": "code",
      "source": [
        "prods = F.softmax(outputs,dim=1)\n",
        "print(prods[:2].data)\n",
        "print(torch.sum(prods[0]).item())"
      ],
      "metadata": {
        "colab": {
          "base_uri": "https://localhost:8080/"
        },
        "id": "-dMlykILhlAy",
        "outputId": "be9f6896-7b33-48a0-be9f-6c36e88da112"
      },
      "execution_count": 47,
      "outputs": [
        {
          "output_type": "stream",
          "name": "stdout",
          "text": [
            "tensor([[0.0766, 0.1229, 0.1177, 0.1307, 0.1100, 0.0983, 0.0800, 0.1278, 0.0620,\n",
            "         0.0740],\n",
            "        [0.0849, 0.1109, 0.0980, 0.0854, 0.1078, 0.1001, 0.0997, 0.1260, 0.0821,\n",
            "         0.1052]])\n",
            "1.0\n"
          ]
        }
      ]
    },
    {
      "cell_type": "code",
      "source": [
        "max_prods , pred = torch.max(prods,dim=1)\n",
        "print(max_prods)\n",
        "print(pred)"
      ],
      "metadata": {
        "colab": {
          "base_uri": "https://localhost:8080/"
        },
        "id": "FA0FYbRvisA3",
        "outputId": "4e06a2b3-16da-45d3-a894-7b07e96088f3"
      },
      "execution_count": 56,
      "outputs": [
        {
          "output_type": "stream",
          "name": "stdout",
          "text": [
            "tensor([0.1307, 0.1260, 0.1228, 0.1225, 0.1301, 0.1242, 0.1430, 0.1150, 0.1246,\n",
            "        0.1382, 0.1239, 0.1311, 0.1354, 0.1129, 0.1300, 0.1216, 0.1355, 0.1133,\n",
            "        0.1276, 0.1253, 0.1120, 0.1250, 0.1366, 0.1348, 0.1278, 0.1143, 0.1280,\n",
            "        0.1189, 0.1408, 0.1367, 0.1229, 0.1305, 0.1193, 0.1343, 0.1341, 0.1386,\n",
            "        0.1398, 0.1251, 0.1301, 0.1359, 0.1539, 0.1175, 0.1236, 0.1278, 0.1269,\n",
            "        0.1210, 0.1304, 0.1110, 0.1375, 0.1307, 0.1279, 0.1259, 0.1185, 0.1209,\n",
            "        0.1151, 0.1283, 0.1560, 0.1503, 0.1314, 0.1270, 0.1276, 0.1271, 0.1445,\n",
            "        0.1319, 0.1442, 0.1251, 0.1262, 0.1230, 0.1485, 0.1231, 0.1494, 0.1233,\n",
            "        0.1458, 0.1161, 0.1155, 0.1129, 0.1221, 0.1327, 0.1677, 0.1244, 0.1396,\n",
            "        0.1117, 0.1323, 0.1421, 0.1323, 0.1340, 0.1216, 0.1162, 0.1768, 0.1079,\n",
            "        0.1366, 0.1605, 0.1282, 0.1224, 0.1241, 0.1472, 0.1348, 0.1196, 0.1396,\n",
            "        0.1374, 0.1114, 0.1204, 0.1525, 0.1499, 0.1163, 0.1388, 0.1174, 0.1290,\n",
            "        0.1152, 0.1266, 0.1253, 0.1642, 0.1106, 0.1235, 0.1377, 0.1222, 0.1149,\n",
            "        0.1229, 0.1712, 0.1410, 0.1568, 0.1391, 0.1739, 0.1341, 0.1255, 0.1376,\n",
            "        0.1232, 0.1160, 0.1204, 0.1200, 0.1251, 0.1367, 0.1216, 0.1363, 0.1227,\n",
            "        0.1431, 0.1230, 0.1196, 0.1131, 0.1281, 0.1163, 0.1338, 0.1471, 0.1207,\n",
            "        0.1254, 0.1262, 0.1274, 0.1376, 0.1221, 0.1164],\n",
            "       grad_fn=<MaxBackward0>)\n",
            "tensor([3, 7, 8, 2, 3, 8, 1, 3, 9, 7, 7, 5, 9, 3, 3, 3, 7, 9, 5, 1, 8, 8, 2, 7,\n",
            "        7, 3, 7, 3, 7, 7, 8, 2, 1, 8, 3, 7, 7, 8, 1, 5, 7, 0, 7, 7, 3, 8, 8, 5,\n",
            "        7, 7, 3, 7, 7, 3, 0, 2, 1, 2, 2, 9, 2, 1, 7, 8, 7, 7, 7, 3, 7, 7, 7, 7,\n",
            "        9, 1, 3, 8, 7, 7, 7, 7, 7, 8, 7, 7, 5, 3, 7, 7, 7, 0, 1, 7, 7, 1, 0, 9,\n",
            "        7, 8, 7, 9, 2, 7, 7, 7, 5, 9, 8, 2, 8, 8, 9, 7, 3, 7, 7, 7, 7, 7, 7, 3,\n",
            "        7, 0, 7, 8, 0, 7, 0, 3, 7, 8, 9, 9, 3, 7, 0, 3, 7, 9, 5, 2, 1, 7, 7, 2,\n",
            "        8, 8, 8, 2, 2, 7])\n"
          ]
        }
      ]
    },
    {
      "cell_type": "code",
      "source": [
        "labels"
      ],
      "metadata": {
        "colab": {
          "base_uri": "https://localhost:8080/"
        },
        "id": "bFDZugugjMZ3",
        "outputId": "39efc5f0-f2a5-472b-f639-b930921089ef"
      },
      "execution_count": 84,
      "outputs": [
        {
          "output_type": "execute_result",
          "data": {
            "text/plain": [
              "tensor([0, 5, 7, 7, 2, 1, 0, 7, 5, 8, 8, 7, 6, 4, 7, 9, 3, 1, 2, 2, 1, 1, 0, 2,\n",
              "        2, 2, 2, 4, 8, 3, 9, 8, 9, 1, 2, 8, 2, 1, 0, 0, 3, 8, 5, 3, 8, 1, 9, 1,\n",
              "        3, 2, 1, 6, 7, 2, 1, 5, 0, 8, 7, 8, 7, 8, 5, 1, 5, 0, 5, 7, 8, 7, 3, 7,\n",
              "        6, 0, 9, 7, 3, 3, 3, 5, 9, 4, 3, 3, 2, 2, 7, 4, 2, 1, 2, 3, 0, 5, 1, 6,\n",
              "        0, 7, 9, 6, 1, 3, 8, 0, 2, 9, 7, 8, 4, 4, 5, 2, 2, 5, 2, 4, 2, 5, 8, 3,\n",
              "        3, 6, 2, 1, 8, 3, 6, 4, 9, 7, 4, 0, 4, 3, 1, 2, 5, 7, 9, 8, 5, 3, 2, 2,\n",
              "        1, 8, 7, 8, 4, 9])"
            ]
          },
          "metadata": {},
          "execution_count": 84
        }
      ]
    },
    {
      "cell_type": "code",
      "source": [
        "pred == labels"
      ],
      "metadata": {
        "colab": {
          "base_uri": "https://localhost:8080/"
        },
        "id": "y0lFOMFfjzbf",
        "outputId": "c2603a1a-2a4d-443f-9c02-f71a32bee590"
      },
      "execution_count": 85,
      "outputs": [
        {
          "output_type": "execute_result",
          "data": {
            "text/plain": [
              "tensor([False, False, False, False, False, False, False, False, False, False,\n",
              "        False, False, False, False, False, False, False, False, False, False,\n",
              "        False, False, False, False, False, False, False, False, False, False,\n",
              "        False, False, False, False, False, False, False, False, False, False,\n",
              "        False, False, False, False, False, False, False, False, False, False,\n",
              "        False, False,  True, False, False, False, False, False, False, False,\n",
              "        False, False, False, False, False, False, False, False, False,  True,\n",
              "        False,  True, False, False, False, False, False, False, False, False,\n",
              "        False, False, False, False, False, False,  True, False, False, False,\n",
              "        False, False, False, False, False, False, False, False, False, False,\n",
              "        False, False, False, False, False,  True, False, False, False, False,\n",
              "        False, False, False, False, False, False, False, False, False,  True,\n",
              "        False, False, False, False, False, False, False, False, False, False,\n",
              "        False, False, False, False, False, False, False, False, False, False,\n",
              "        False, False, False,  True, False,  True, False, False, False, False])"
            ]
          },
          "metadata": {},
          "execution_count": 85
        }
      ]
    },
    {
      "cell_type": "code",
      "source": [
        "def accuracy(outputs,lables):\n",
        "  _,pred = torch.max(outputs,dim=1)\n",
        "  return torch.tensor(torch.sum(pred == labels).item()/len(pred))"
      ],
      "metadata": {
        "id": "0F_46NGyjROa"
      },
      "execution_count": 86,
      "outputs": []
    },
    {
      "cell_type": "code",
      "source": [
        "accuracy(outputs,labels)*100"
      ],
      "metadata": {
        "colab": {
          "base_uri": "https://localhost:8080/"
        },
        "id": "WcvRegrAjt94",
        "outputId": "a322c866-01f1-47be-ad33-c97da189715e"
      },
      "execution_count": 87,
      "outputs": [
        {
          "output_type": "execute_result",
          "data": {
            "text/plain": [
              "tensor(5.3333)"
            ]
          },
          "metadata": {},
          "execution_count": 87
        }
      ]
    },
    {
      "cell_type": "code",
      "source": [
        "loss = F.cross_entropy(outputs,labels)\n",
        "print(loss)"
      ],
      "metadata": {
        "colab": {
          "base_uri": "https://localhost:8080/"
        },
        "id": "Lb6AqkFSj_7l",
        "outputId": "2d64fb75-4f34-4017-d4b4-aa1dd31c5605"
      },
      "execution_count": 74,
      "outputs": [
        {
          "output_type": "stream",
          "name": "stdout",
          "text": [
            "tensor(2.3575, grad_fn=<NllLossBackward0>)\n"
          ]
        }
      ]
    },
    {
      "cell_type": "code",
      "source": [
        "def fit(epochs,lr,model,train_loader,val_loader,opt_func=torch.optim.SGD):\n",
        "  optimizer = opt_func(model.parameters(),lr)\n",
        "  history = []\n",
        "\n",
        "  for epoch in range(epochs):\n",
        "    for batch in train_loader:\n",
        "      loss = model.training_step(batch)\n",
        "      loss.backward()\n",
        "      optimizer.step()\n",
        "      optimizer.zero_grad()\n",
        "\n",
        "    result = evaluate(model,val_loader)\n",
        "    model.epoch_end(epoch,result)\n",
        "    history.append(result)\n",
        "\n",
        "  return history"
      ],
      "metadata": {
        "id": "-bt9xSL3nIrP"
      },
      "execution_count": 75,
      "outputs": []
    },
    {
      "cell_type": "code",
      "source": [
        "def evaluate(model,val_loader):\n",
        "  outputs = [model.validation_step(batch) for batch in val_loader]\n",
        "  return model.validation_epoch_end(outputs)"
      ],
      "metadata": {
        "id": "1b0WK0VHo-Gj"
      },
      "execution_count": 76,
      "outputs": []
    },
    {
      "cell_type": "code",
      "source": [
        "class MNIST_MODEL(nn.Module):\n",
        "  def __init__(self):\n",
        "    super().__init__()\n",
        "    self.linear = nn.Linear(input_size,num_classes)\n",
        "\n",
        "  def forward(self,x):\n",
        "    x = x.reshape(-1,784)\n",
        "    out = self.linear(x)\n",
        "    return out\n",
        "\n",
        "  def training_step(self,batch):\n",
        "    images,labels = batch\n",
        "    out = self(images)\n",
        "    loss = F.cross_entropy(out,labels)\n",
        "    return loss\n",
        "\n",
        "\n",
        "  def validation_step(self,batch):\n",
        "    images,labels = batch\n",
        "    out= self(images)\n",
        "    loss = F.cross_entropy(out,labels)\n",
        "    acc = accuracy(out,labels)\n",
        "    return {'val_loss':loss.detach(),'val_acc':acc}\n",
        "\n",
        "  def validation_epoch_end(self,outputs):\n",
        "    batch_losses = [x['val_loss'] for x in outputs]\n",
        "    epoch_loss = torch.stack(batch_losses).mean()\n",
        "    batch_accs = [x['val_acc'] for x in outputs]\n",
        "    epoch_acc = torch.stack(batch_accs).mean()\n",
        "    return {'val_loss':epoch_loss.item(),'val_acc':epoch_acc.item()}\n",
        "\n",
        "  def epoch_end(self,epoch,result):\n",
        "    print(\"Epoch [{}], val_loss: {:.4f}, val_acc: {:.4f}\".format(epoch,result['val_loss'],result['val_acc']))\n",
        "\n",
        "\n",
        "model = MNIST_MODEL()"
      ],
      "metadata": {
        "id": "GBgJoJbqpSiZ"
      },
      "execution_count": 77,
      "outputs": []
    },
    {
      "cell_type": "code",
      "source": [
        "def evaluate(model, val_loader):\n",
        "    model.eval()  # Set model to evaluation mode\n",
        "    outputs = []\n",
        "    with torch.no_grad():  # Disable gradient calculation\n",
        "        for batch in val_loader:\n",
        "            outputs.append(model.validation_step(batch))\n",
        "    return model.validation_epoch_end(outputs)\n",
        "\n",
        "# Define accuracy function\n",
        "def accuracy(outputs, labels):\n",
        "    _, preds = torch.max(outputs, dim=1)\n",
        "    # Ensure that preds and labels are the same size before comparison\n",
        "    if preds.size(0) != labels.size(0):\n",
        "        return torch.tensor(0.0)  # or handle it as you prefer\n",
        "    return torch.tensor(torch.sum(preds == labels).item() / len(preds))\n",
        "\n",
        "# Create the model\n",
        "model = MNIST_MODEL()\n",
        "\n",
        "# Drop the last incomplete batch for val_loader\n",
        "val_loader = DataLoader(val_ds, batch_size=batch_size, drop_last=True)\n",
        "\n",
        "# Evaluate the model\n",
        "result0 = evaluate(model, val_loader)\n",
        "print(result0)\n"
      ],
      "metadata": {
        "colab": {
          "base_uri": "https://localhost:8080/"
        },
        "id": "uVxGfUPDtjNB",
        "outputId": "4bc25c2c-e102-4fef-9666-5eaf91cdd829"
      },
      "execution_count": 91,
      "outputs": [
        {
          "output_type": "stream",
          "name": "stdout",
          "text": [
            "{'val_loss': 2.3474953174591064, 'val_acc': 0.10484848916530609}\n"
          ]
        }
      ]
    },
    {
      "cell_type": "code",
      "source": [
        "result0 = evaluate(model,val_loader)\n",
        "result0"
      ],
      "metadata": {
        "colab": {
          "base_uri": "https://localhost:8080/"
        },
        "id": "R2L6KEHcqgro",
        "outputId": "8e36f769-ddf6-40d0-8cb6-1a10d2ae512b"
      },
      "execution_count": 92,
      "outputs": [
        {
          "output_type": "execute_result",
          "data": {
            "text/plain": [
              "{'val_loss': 2.3474953174591064, 'val_acc': 0.10484848916530609}"
            ]
          },
          "metadata": {},
          "execution_count": 92
        }
      ]
    },
    {
      "cell_type": "code",
      "source": [
        "history1 = fit(5,0.001,model,train_loader,val_loader)"
      ],
      "metadata": {
        "colab": {
          "base_uri": "https://localhost:8080/"
        },
        "id": "PIb-vfPrq8lT",
        "outputId": "40ed68f8-9ba7-418d-efbd-1a5dcd8f5c7c"
      },
      "execution_count": 93,
      "outputs": [
        {
          "output_type": "stream",
          "name": "stdout",
          "text": [
            "Epoch [0], val_loss: 2.0121, val_acc: 0.5785\n",
            "Epoch [1], val_loss: 1.7627, val_acc: 0.7232\n",
            "Epoch [2], val_loss: 1.5691, val_acc: 0.7586\n",
            "Epoch [3], val_loss: 1.4178, val_acc: 0.7765\n",
            "Epoch [4], val_loss: 1.2981, val_acc: 0.7886\n"
          ]
        }
      ]
    },
    {
      "cell_type": "code",
      "source": [
        "history1 = fit(20,0.001,model,train_loader,val_loader)"
      ],
      "metadata": {
        "colab": {
          "base_uri": "https://localhost:8080/"
        },
        "id": "1jLQ8HGarOz6",
        "outputId": "a8f26509-2bb0-48d4-8ac5-3d7566ea92eb"
      },
      "execution_count": 94,
      "outputs": [
        {
          "output_type": "stream",
          "name": "stdout",
          "text": [
            "Epoch [0], val_loss: 1.2023, val_acc: 0.7999\n",
            "Epoch [1], val_loss: 1.1240, val_acc: 0.8076\n",
            "Epoch [2], val_loss: 1.0592, val_acc: 0.8137\n",
            "Epoch [3], val_loss: 1.0048, val_acc: 0.8200\n",
            "Epoch [4], val_loss: 0.9586, val_acc: 0.8231\n",
            "Epoch [5], val_loss: 0.9187, val_acc: 0.8269\n",
            "Epoch [6], val_loss: 0.8840, val_acc: 0.8302\n",
            "Epoch [7], val_loss: 0.8536, val_acc: 0.8338\n",
            "Epoch [8], val_loss: 0.8265, val_acc: 0.8375\n",
            "Epoch [9], val_loss: 0.8025, val_acc: 0.8399\n",
            "Epoch [10], val_loss: 0.7808, val_acc: 0.8420\n",
            "Epoch [11], val_loss: 0.7613, val_acc: 0.8445\n",
            "Epoch [12], val_loss: 0.7436, val_acc: 0.8474\n",
            "Epoch [13], val_loss: 0.7273, val_acc: 0.8489\n",
            "Epoch [14], val_loss: 0.7125, val_acc: 0.8513\n",
            "Epoch [15], val_loss: 0.6989, val_acc: 0.8525\n",
            "Epoch [16], val_loss: 0.6862, val_acc: 0.8536\n",
            "Epoch [17], val_loss: 0.6744, val_acc: 0.8552\n",
            "Epoch [18], val_loss: 0.6635, val_acc: 0.8564\n",
            "Epoch [19], val_loss: 0.6534, val_acc: 0.8576\n"
          ]
        }
      ]
    },
    {
      "cell_type": "code",
      "source": [
        "torch.save(model.state_dict(),'mnist-logs.pth')"
      ],
      "metadata": {
        "id": "iupMlfhzt4Q9"
      },
      "execution_count": 95,
      "outputs": []
    },
    {
      "cell_type": "code",
      "source": [],
      "metadata": {
        "id": "crLDcmPCyEof"
      },
      "execution_count": null,
      "outputs": []
    }
  ]
}